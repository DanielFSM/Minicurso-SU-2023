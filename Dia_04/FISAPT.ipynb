{
 "cells": [
  {
   "cell_type": "markdown",
   "metadata": {},
   "source": [
    "O programa Psi4 apresenta um módulo chamado de FISAPT (Functional Group Intra or Intermolecular SAPT) que permite (1) particionar os vários termos SAPT em grupos funcionais químicos localizados (F-SAPT) e (2) uma maneira de computar a interação SAPT entre dois fragmentos dentro de uma molécula (I-SAPT).\n",
    "O F-SAPT foi desenvolvido para obter mais informações sobre as origens químicas de uma interação não covalente, enquanto que I-SAPT permite realziar uma análise SAPT para interações não-covalentes intramoleculares.\n",
    "\n",
    "Neste laboratório você irá empregar estes módulos em dois sistemas simples como prova de conceito. O primeiro deles é um dímero de fenol, cuja estrutura molecular é mostrada abaixo:\n",
    "\n",
    "<div>\n",
    "<img src=\"phenol_dimer.png\" width=\"600\"/>\n",
    "</div>\n",
    "\n",
    "No meu computador este cálculo levou cerca de 4 minutos."
   ]
  },
  {
   "cell_type": "code",
   "execution_count": 1,
   "metadata": {},
   "outputs": [
    {
     "name": "stdout",
     "output_type": "stream",
     "text": [
      "\n",
      "  Memory set to   3.725 GiB by Python driver.\n"
     ]
    }
   ],
   "source": [
    "import sys; sys.path.append(\"/usr/lib/x86_64-linux-gnu/\") \n",
    "import time\n",
    "import numpy as np\n",
    "import scipy\n",
    "from scipy.optimize import *\n",
    "np.set_printoptions(precision=5, linewidth=200, threshold=2000, suppress=True)\n",
    "import psi4\n",
    "import matplotlib.pyplot as plt\n",
    "\n",
    "\n",
    "# Set Psi4 & NumPy Memory Options\n",
    "psi4.set_memory('4 GB')\n",
    "psi4.core.set_output_file('output.dat', False)\n",
    "\n",
    "numpy_memory = 2\n",
    "\n",
    "psi4.set_options({'basis': 'jun-cc-pVDZ',\n",
    "              'scf_type': 'df',\n",
    "              'guess': 'sad',\n",
    "              'reference': 'rhf',\n",
    "              'fisapt_charge_completeness': 0.8,\n",
    "              'freeze_core': 'True'})"
   ]
  },
  {
   "cell_type": "code",
   "execution_count": 2,
   "metadata": {},
   "outputs": [],
   "source": [
    "psi4.set_options({'basis': 'jun-cc-pVDZ',\n",
    "              'scf_type': 'df',\n",
    "              'guess': 'sad',\n",
    "              'reference': 'rhf',\n",
    "              'freeze_core': 'True'})\n",
    "#geometria do dimero de fenol\n",
    "phenol_dimer =  \"\"\"\n",
    "0 1\n",
    "O    -1.3885044    1.9298523   -0.4431206\n",
    "H    -0.5238121    1.9646519   -0.0064609\n",
    "C    -2.0071056    0.7638459   -0.1083509\n",
    "C    -1.4630807   -0.1519120    0.7949930\n",
    "C    -2.1475789   -1.3295094    1.0883677\n",
    "C    -3.3743208   -1.6031427    0.4895864\n",
    "C    -3.9143727   -0.6838545   -0.4091028\n",
    "C    -3.2370496    0.4929609   -0.7096126\n",
    "H    -0.5106510    0.0566569    1.2642563\n",
    "H    -1.7151135   -2.0321452    1.7878417\n",
    "H    -3.9024664   -2.5173865    0.7197947\n",
    "H    -4.8670730   -0.8822939   -0.8811319\n",
    "H    -3.6431662    1.2134345   -1.4057590\n",
    "--\n",
    "0 1\n",
    "O     1.3531168    1.9382724    0.4723133\n",
    "H     1.7842846    2.3487495    1.2297110\n",
    "C     2.0369747    0.7865043    0.1495491\n",
    "C     1.5904026    0.0696860   -0.9574153\n",
    "C     2.2417367   -1.1069765   -1.3128110\n",
    "C     3.3315674   -1.5665603   -0.5748636\n",
    "C     3.7696838   -0.8396901    0.5286439\n",
    "C     3.1224836    0.3383498    0.8960491\n",
    "H     0.7445512    0.4367983   -1.5218583\n",
    "H     1.8921463   -1.6649726   -2.1701843\n",
    "H     3.8330227   -2.4811537   -0.8566666\n",
    "H     4.6137632   -1.1850101    1.1092635\n",
    "H     3.4598854    0.9030376    1.7569489\n",
    "\n",
    "symmetry c1\n",
    "no_reorient\n",
    "no_com\n",
    "  \n",
    "\"\"\"\n",
    "# constroi a molécula\n",
    "psi4.geometry(phenol_dimer)\n",
    "\n",
    "# calcula a energia\n",
    "psi4.energy('fisapt0')\n",
    "eelst_ph = psi4.variable('SAPT ELST ENERGY') * 627.509\n",
    "eexch_ph = psi4.variable('SAPT EXCH ENERGY') * 627.509\n",
    "eind_ph = psi4.variable('SAPT IND ENERGY') * 627.509\n",
    "edisp_ph = psi4.variable('SAPT DISP ENERGY') * 627.509\n",
    "esapt_ph = psi4.variable('SAPT TOTAL ENERGY') * 627.509\n",
    "\n",
    "psi4.core.clean()"
   ]
  },
  {
   "cell_type": "code",
   "execution_count": 4,
   "metadata": {},
   "outputs": [
    {
     "name": "stdout",
     "output_type": "stream",
     "text": [
      "A energia de interação eletrostática entre os fenóis é:  -9.095041590884906\n",
      "A energia de interação repulsiva estérica entre os fenóis é:  9.86750340547538\n",
      "A energia de interação de indução entre os fenóis é:  -2.7962364471496888\n",
      "A energia de interação de dispersão entre os fenóis é:  -5.1143564771681795\n",
      "A energia de interação total entre os fenóis é:  -7.138131109727394\n"
     ]
    }
   ],
   "source": [
    "print('A energia de interação eletrostática entre os fenóis é: ',eelst_ph)\n",
    "print('A energia de interação repulsiva estérica entre os fenóis é: ',eexch_ph)\n",
    "print('A energia de interação de indução entre os fenóis é: ',eind_ph)\n",
    "print('A energia de interação de dispersão entre os fenóis é: ',edisp_ph)\n",
    "print('A energia de interação total entre os fenóis é: ',esapt_ph)"
   ]
  },
  {
   "cell_type": "code",
   "execution_count": 7,
   "metadata": {},
   "outputs": [
    {
     "name": "stdout",
     "output_type": "stream",
     "text": [
      "As forças intermoleculares entre os fenóis indicam que as componentes eletrostáticas, indução, e dispersão\n",
      " contribuem  53.5,  16.4, e  30.1 porcento das componentes atrativas da interação, respectivamente.\n"
     ]
    }
   ],
   "source": [
    "percent_elst = (eelst_ph/(eelst_ph+eind_ph+edisp_ph))*100\n",
    "percent_ind  = (eind_ph/(eelst_ph+eind_ph+edisp_ph))*100\n",
    "percent_disp = (edisp_ph/(eelst_ph+eind_ph+edisp_ph))*100\n",
    "print ('As forças intermoleculares entre os fenóis indicam que as componentes eletrostáticas, indução, e dispersão')\n",
    "print (' contribuem %5.1f, %5.1f, e %5.1f porcento das componentes atrativas da interação, respectivamente.'\n",
    " % (percent_elst,percent_ind,percent_disp))"
   ]
  },
  {
   "cell_type": "markdown",
   "metadata": {},
   "source": [
    "O psi4 quando realiza um cálculo `fisapt0`, cria uma pasta no mesmo diretório com o nome `fsapt`. Dentro dela existem três arquivos:\n",
    "\n",
    "- fsapt.py (um script para analisar as contribuições dos grupos funcionais de cada molécula)\n",
    "\n",
    "- fA.dat (um arquivo em que o usuário deve indicar quais são os fragmentos de interessa da molécula A)\n",
    "\n",
    "- fB.dat (um arquivo em que o usuário deve indicar quais são os fragmentos de interessa da molécula B)\n",
    "\n",
    "Vamos realizar esta análise verificar da interação total entre os fenóis como as hidroxilas interagem. Para isto abra um terminal dentro da pasta `fsapt` e digite o comando:\n",
    "```\n",
    "\n",
    "python3 fsapt.py\n",
    "\n",
    "```\n",
    "\n",
    "O script ira gerar diversos arquivos. Vamos abrir o arquivo `fsapt.dat` para realizar a análise e copiar dentro desta célula:\n",
    "\n"
   ]
  },
  {
   "cell_type": "markdown",
   "metadata": {},
   "source": [
    "Agora vamos mostrar um exemplo do uso do módulo I-SAPT0/jun-cc-pVDZ para analisar a interação entre as duas hidroxilas da molécula 2,4-pentanodiol.\n",
    "\n",
    "<div>\n",
    "<img src=\"pentanediol.png\" width=\"600\"/>\n",
    "</div>\n",
    "\n",
    "No input abaixo, note como as coordenadas das duas hidroxilas estão separadas por (`--`). A primeira hidroxila seja nosso fragmento $A$ e a segunda hidroxila será nosso fragmento $B$. O fragmento $C$ será a cadeia alquílica. Importante! Os fragmentos $A$ e $B$ precisam obrigatoriamente estar ligado ao $C$ para que o módulo I-SAPT funcione corretamente"
   ]
  },
  {
   "cell_type": "code",
   "execution_count": 6,
   "metadata": {},
   "outputs": [],
   "source": [
    "#geometria do dimero de fenol\n",
    "#molecule mol {\n",
    "#0 1\n",
    "#C             2.51268        -0.79503       -0.22006\n",
    "#C             1.23732         0.03963       -0.27676\n",
    "#H             2.46159        -1.62117       -0.94759\n",
    "#H             2.64341        -1.21642        0.78902\n",
    "#H             3.39794        -0.18468       -0.46590\n",
    "#O             1.26614         1.11169        0.70005\n",
    "#H             2.10603         1.58188        0.59592\n",
    "#H             1.13110         0.48209       -1.28412\n",
    "#--\n",
    "#0 1            \n",
    "#C            -1.26007         0.07291        0.27398\n",
    "#C            -2.53390        -0.75742        0.20501\n",
    "#H            -2.48461        -1.59766        0.91610\n",
    "#H            -2.65872        -1.16154       -0.81233\n",
    "#H            -3.41092        -0.13922        0.44665\n",
    "#O            -1.38660         1.11180       -0.71748\n",
    "#H            -1.17281         0.53753        1.27129\n",
    "#H            -0.70002         1.76332       -0.50799\n",
    "#--\n",
    "#0 1            \n",
    "#C            -0.01090        -0.78649        0.02607\n",
    "#H             0.17071        -1.41225        0.91863\n",
    "#H            -0.19077        -1.46135       -0.82966\n",
    "#symmetry c1\n",
    "#no_reorient\n",
    "#no_com\n",
    "#}\n",
    "\n",
    "\n",
    "mol = psi4.core.Molecule.from_arrays(\n",
    "elez=[8, 1, 8, 1, 6, 6, 6, 6, 6, 1, 1, 1, 1, 1, 1, 1, 1, 1, 1],\n",
    "fragment_separators=[2, 4],\n",
    "fix_com=True,\n",
    "fix_orientation=True,\n",
    "fix_symmetry='c1',\n",
    "fragment_multiplicities=[2, 2, 1],\n",
    "molecular_charge=0,\n",
    "molecular_multiplicity=1,\n",
    "geom=[\n",
    "             0.39987 ,        2.94222 ,       -0.26535 ,\n",
    "             0.05893 ,        2.05436 ,       -0.50962 ,\n",
    "\n",
    "             0.48122 ,        0.30277 ,       -0.77763 ,\n",
    "             0.26106 ,       -0.50005 ,       -1.28451 ,\n",
    "             \n",
    "             2.33048 ,       -1.00269 ,        0.03771 ,\n",
    "             1.89725 ,        0.31533 ,       -0.59009 ,\n",
    "             2.28232 ,        1.50669 ,        0.29709 ,\n",
    "             1.82204 ,        2.84608 ,       -0.29432 ,\n",
    "             2.37905 ,        4.02099 ,        0.49639 ,\n",
    "             3.41246 ,       -1.03030 ,        0.19825 ,\n",
    "             2.05362 ,       -1.84372 ,       -0.60709 ,\n",
    "             1.82714 ,       -1.16382 ,        0.99734 ,\n",
    "             2.36243 ,        0.42333 ,       -1.57636 ,\n",
    "             3.36962 ,        1.51414 ,        0.43813 ,\n",
    "             1.81251 ,        1.38060 ,        1.28140 ,\n",
    "             2.14344 ,        2.92967 ,       -1.33843 ,\n",
    "             3.47320 ,        4.02400 ,        0.48819 ,\n",
    "             2.03535 ,        3.99216 ,        1.53635 ,\n",
    "             2.02481 ,        4.96785 ,        0.07455  ])\n",
    "psi4.activate(mol)\n",
    "\n",
    "# => Standard Options <= #\n",
    "psi4.set_options({\n",
    "'basis': 'jun-cc-pVDZ',\n",
    "'scf_type': 'df',\n",
    "'guess': 'sad',\n",
    "'freeze_core': 'true'\n",
    "})\n",
    "\n",
    "psi4.energy('fisapt0') \n",
    "\n",
    "Eelst = psi4.variable(\"SAPT ELST ENERGY\") * 627.509\n",
    "Eexch = psi4.variable(\"SAPT EXCH ENERGY\") * 627.509\n",
    "Eind  = psi4.variable(\"SAPT IND ENERGY\") * 627.509\n",
    "Edisp = psi4.variable(\"SAPT DISP ENERGY\") * 627.509\n",
    "ET    = psi4.variable(\"SAPT0 TOTAL ENERGY\") * 627.509\n"
   ]
  },
  {
   "cell_type": "code",
   "execution_count": 7,
   "metadata": {},
   "outputs": [
    {
     "name": "stdout",
     "output_type": "stream",
     "text": [
      "A energia de interação eletrostática entre as hidroxilas é:  -8.841505508663975\n",
      "A energia de repulsão estérica entre as hidroxilas é:  11.150180388956642\n",
      "A energia de interação de indução entre as hidroxilas é:  -3.263682378795357\n",
      "A energia de interação de dispersão entre as hidroxilas é:  -1.5995318410858168\n",
      "A energia total de interação entre as hidroxilas é:  -2.554539339588507\n"
     ]
    }
   ],
   "source": [
    "print('A energia de interação eletrostática entre as hidroxilas é: ',Eelst)\n",
    "print('A energia de repulsão estérica entre as hidroxilas é: ',Eexch)\n",
    "print('A energia de interação de indução entre as hidroxilas é: ',Eind)\n",
    "print('A energia de interação de dispersão entre as hidroxilas é: ',Edisp)\n",
    "print('A energia total de interação entre as hidroxilas é: ',ET)"
   ]
  },
  {
   "cell_type": "markdown",
   "metadata": {},
   "source": [
    "Podemos construir um gráfico para analisar as energias de interação OH-OH.\n"
   ]
  },
  {
   "cell_type": "code",
   "execution_count": 14,
   "metadata": {},
   "outputs": [
    {
     "data": {
      "image/png": "[encoded data removed]",
      "text/plain": [
       "<Figure size 640x480 with 1 Axes>"
      ]
     },
     "metadata": {},
     "output_type": "display_data"
    }
   ],
   "source": [
    "variables = [\"Eelst\", \"Eexch\", \"Eind\", \"Edisp\", \"ET\"]\n",
    "\n",
    "# Get the values of the variables\n",
    "values = [\n",
    "    psi4.variable(\"SAPT ELST ENERGY\") * 627.509,\n",
    "    psi4.variable(\"SAPT EXCH ENERGY\") * 627.509,\n",
    "    psi4.variable(\"SAPT IND ENERGY\") * 627.509,\n",
    "    psi4.variable(\"SAPT DISP ENERGY\") * 627.509,\n",
    "    psi4.variable(\"SAPT0 TOTAL ENERGY\") * 627.509,\n",
    "]\n",
    "\n",
    "# Create a list of colors\n",
    "colors = [\"red\", \"#4c9928\", \"#1d5bcf\", \"#f7ba36\", \"black\"]\n",
    "# Create a bar chart\n",
    "plt.bar(variables, values, width=0.4, color=colors)\n",
    "plt.axhline(y=0, color='black', linestyle='--')\n",
    "\n",
    "# Set axis labels\n",
    "plt.xlabel(\"Componente\")\n",
    "plt.ylabel(\"Energoia (kcal/mol)\")\n",
    "\n",
    "# Show the plot\n",
    "plt.show()"
   ]
  },
  {
   "cell_type": "markdown",
   "metadata": {},
   "source": [
    "*Questionamentos*\n",
    "\n",
    "- A interação entre as hidroxilas é atrativa ou repulsiva?\n",
    "\n",
    "- Qual é a componente dominante desta interação?\n",
    "\n",
    "- A componente dominante foi a mesma que vimos no dímero de água e de ácido fluorídrico que estudamos anteriormente?"
   ]
  }
 ],
 "metadata": {
  "kernelspec": {
   "display_name": "Python 3",
   "language": "python",
   "name": "python3"
  },
  "language_info": {
   "codemirror_mode": {
    "name": "ipython",
    "version": 3
   },
   "file_extension": ".py",
   "mimetype": "text/x-python",
   "name": "python",
   "nbconvert_exporter": "python",
   "pygments_lexer": "ipython3",
   "version": "3.10.12"
  },
  "orig_nbformat": 4
 },
 "nbformat": 4,
 "nbformat_minor": 2
}
